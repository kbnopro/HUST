{
 "cells": [
  {
   "cell_type": "markdown",
   "metadata": {
    "slideshow": {
     "slide_type": "slide"
    }
   },
   "source": [
    "# Query data from sakila (MySQL sample database)"
   ]
  },
  {
   "cell_type": "markdown",
   "metadata": {
    "slideshow": {
     "slide_type": "slide"
    }
   },
   "source": [
    "## 1. Open connection to database"
   ]
  },
  {
   "cell_type": "code",
   "execution_count": 1,
   "metadata": {
    "slideshow": {
     "slide_type": "slide"
    }
   },
   "outputs": [],
   "source": [
    "import mysql.connector as mysql\n",
    "\n",
    "# use mysql sakila database\n",
    "db = mysql.connect(\n",
    "    user='root',\n",
    "    password='1',\n",
    "    database='sakila',\n",
    "    port='1703',\n",
    "    host='localhost'\n",
    ")\n",
    "\n",
    "cursor = db.cursor(buffered=True)"
   ]
  },
  {
   "cell_type": "code",
   "execution_count": 2,
   "metadata": {
    "slideshow": {
     "slide_type": "fragment"
    }
   },
   "outputs": [],
   "source": [
    "# tabulate is used to print the data in table format\n",
    "from tabulate import tabulate"
   ]
  },
  {
   "cell_type": "markdown",
   "metadata": {
    "slideshow": {
     "slide_type": "slide"
    }
   },
   "source": [
    "## 2. Write all table schema into txt file"
   ]
  },
  {
   "cell_type": "code",
   "execution_count": 3,
   "metadata": {
    "slideshow": {
     "slide_type": "slide"
    }
   },
   "outputs": [],
   "source": [
    "cursor.execute(\"SHOW TABLES\")\n",
    "result = cursor.fetchall()\n",
    "\n",
    "table_list = [i[0] for i in result]\n",
    "\n",
    "with open(\"schema.txt\",\"w\") as f:\n",
    "    for table_name in table_list:\n",
    "        query = f\"EXPLAIN {table_name}\"\n",
    "        cursor.execute(query)\n",
    "        result = cursor.fetchall()\n",
    "\n",
    "        headers = [i[0] for i in cursor.description]\n",
    "        \n",
    "        f.write(f\"Table: {table_name}\\n\")\n",
    "        f.write(tabulate(result,headers))\n",
    "        f.write(\"\\n\\n\\n\")"
   ]
  },
  {
   "cell_type": "markdown",
   "metadata": {
    "slideshow": {
     "slide_type": "slide"
    }
   },
   "source": [
    "## 4. SELECT queries"
   ]
  },
  {
   "cell_type": "code",
   "execution_count": 4,
   "metadata": {
    "slideshow": {
     "slide_type": "subslide"
    }
   },
   "outputs": [
    {
     "name": "stdout",
     "output_type": "stream",
     "text": [
      "  actor_id  first_name    last_name\n",
      "----------  ------------  -----------\n",
      "        29  ALEC          WAYNE\n",
      "        19  BOB           FAWCETT\n",
      "        24  CAMERON       STREEP\n",
      "        15  CUBA          OLIVIER\n",
      "        18  DAN           TORN\n",
      "        22  ELVIS         MARX\n",
      "        16  FRED          COSTNER\n",
      "        17  HELEN         VOIGHT\n",
      "        27  JULIA         MCQUEEN\n",
      "        25  KEVIN         BLOOM\n"
     ]
    }
   ],
   "source": [
    "query = (\n",
    "    \"SELECT actor_id, first_name, last_name FROM actor \" \n",
    "    \"WHERE actor_id > 12 AND actor_id < 30 \"\n",
    "    \"ORDER BY first_name, last_name DESC \"\n",
    "    \"LIMIT 10 \"\n",
    ")\n",
    "cursor.execute(query)\n",
    "result = cursor.fetchall()\n",
    "\n",
    "headers = [i[0] for i in cursor.description]\n",
    "\n",
    "print(tabulate(result,headers))"
   ]
  },
  {
   "cell_type": "code",
   "execution_count": 5,
   "metadata": {
    "slideshow": {
     "slide_type": "slide"
    }
   },
   "outputs": [
    {
     "name": "stdout",
     "output_type": "stream",
     "text": [
      "name        title\n",
      "----------  ---------------------\n",
      "ADAM GRANT  ANNIE IDENTITY\n",
      "ADAM GRANT  BALLROOM MOCKINGBIRD\n",
      "ADAM GRANT  DISCIPLE MOTHER\n",
      "ADAM GRANT  FIREBALL PHILADELPHIA\n",
      "ADAM GRANT  GLADIATOR WESTWARD\n",
      "ADAM GRANT  GLORY TRACY\n",
      "ADAM GRANT  GROUNDHOG UNCUT\n",
      "ADAM GRANT  HAPPINESS UNITED\n",
      "ADAM GRANT  IDOLS SNATCHERS\n",
      "ADAM GRANT  LOSER HUSTLER\n"
     ]
    }
   ],
   "source": [
    "query = (\n",
    "    \"SELECT a.first_name, a.last_name, f.title \"\n",
    "    \"FROM actor a \"\n",
    "    \"JOIN film_actor fa ON a.actor_id = fa.actor_id \"\n",
    "    \"JOIN film f ON f.film_id = fa.film_id \"\n",
    "    \"ORDER BY a.first_name, a.last_name, f.title ASC \"\n",
    "    \"LIMIT 10 \"\n",
    ") # LIST OF ACTORS AND FILMS THEY STARRED IN\n",
    "cursor.execute(query)\n",
    "result = cursor.fetchall()\n",
    "result = [(f\"{i[0]} {i[1]}\",i[2]) for i in result]\n",
    "\n",
    "headers = [i[0] for i in cursor.description]\n",
    "headers = [\"name\",headers[2]]\n",
    "\n",
    "print(tabulate(result,headers))"
   ]
  },
  {
   "cell_type": "code",
   "execution_count": 6,
   "metadata": {
    "slideshow": {
     "slide_type": "slide"
    }
   },
   "outputs": [
    {
     "name": "stdout",
     "output_type": "stream",
     "text": [
      "name                   film_count\n",
      "-------------------  ------------\n",
      "PENELOPE GUINESS               19\n",
      "NICK WAHLBERG                  25\n",
      "ED CHASE                       22\n",
      "JENNIFER DAVIS                 22\n",
      "JOHNNY LOLLOBRIGIDA            29\n",
      "BETTE NICHOLSON                20\n",
      "GRACE MOSTEL                   30\n",
      "MATTHEW JOHANSSON              20\n",
      "JOE SWANK                      25\n",
      "CHRISTIAN GABLE                22\n"
     ]
    }
   ],
   "source": [
    "query = (\n",
    "    \"SELECT a.first_name, a.last_name, COUNT(f.film_id) film_count \"\n",
    "    \"FROM actor a \"\n",
    "    \"JOIN film_actor fa ON a.actor_id = fa.actor_id \"\n",
    "    \"JOIN film f ON f.film_id = fa.film_id \"\n",
    "    \"GROUP BY a.actor_id, a.first_name, a.last_name \"\n",
    "    \"LIMIT 10\"\n",
    ") # LIST OF ACTORS AND NUMBER OF FILMS THEY STARRED IN\n",
    "cursor.execute(query) \n",
    "result = cursor.fetchall()\n",
    "result = [(f\"{i[0]} {i[1]}\",i[2]) for i in result]\n",
    "\n",
    "headers = [i[0] for i in cursor.description]\n",
    "headers = [\"name\",headers[2]]\n",
    "\n",
    "print(tabulate(result,headers))"
   ]
  },
  {
   "cell_type": "code",
   "execution_count": 7,
   "metadata": {
    "slideshow": {
     "slide_type": "slide"
    }
   },
   "outputs": [
    {
     "name": "stdout",
     "output_type": "stream",
     "text": [
      "name                   film_count\n",
      "-------------------  ------------\n",
      "PENELOPE GUINESS               19\n",
      "NICK WAHLBERG                  25\n",
      "ED CHASE                       22\n",
      "JENNIFER DAVIS                 22\n",
      "JOHNNY LOLLOBRIGIDA            29\n",
      "BETTE NICHOLSON                20\n",
      "GRACE MOSTEL                   30\n",
      "MATTHEW JOHANSSON              20\n",
      "JOE SWANK                      25\n",
      "CHRISTIAN GABLE                22\n"
     ]
    }
   ],
   "source": [
    "query = (\n",
    "    \"WITH \"\n",
    "        \"actor_film_count AS \"\n",
    "        \"( \"\n",
    "        \"SELECT a.actor_id, COUNT(f.film_id) film_count \"\n",
    "        \"FROM actor a \"\n",
    "        \"JOIN film_actor fa ON a.actor_id = fa.actor_id \"\n",
    "        \"JOIN film f ON f.film_id = fa.film_id \"\n",
    "        \"GROUP BY a.actor_id \"\n",
    "        \") \"\n",
    "    \"SELECT a.first_name, a.last_name, afc.film_count \"\n",
    "    \"FROM actor a \"\n",
    "    \"JOIN actor_film_count afc ON a.actor_id = afc.actor_id \"\n",
    "    \"LIMIT 10 \"\n",
    ") # LIST OF ACTORS AND NUMBER OF FILMS THEY STARRED IN\n",
    "cursor.execute(query)\n",
    "result = cursor.fetchall()\n",
    "result = [(f\"{i[0]} {i[1]}\",i[2]) for i in result]\n",
    "\n",
    "headers = [i[0] for i in cursor.description]\n",
    "headers = [\"name\",headers[2]]\n",
    "\n",
    "print(tabulate(result,headers))"
   ]
  },
  {
   "cell_type": "code",
   "execution_count": 8,
   "metadata": {
    "slideshow": {
     "slide_type": "slide"
    }
   },
   "outputs": [
    {
     "name": "stdout",
     "output_type": "stream",
     "text": [
      "name                   film_count\n",
      "-------------------  ------------\n",
      "JOHNNY LOLLOBRIGIDA            29\n",
      "GRACE MOSTEL                   30\n",
      "KARL BERRY                     31\n",
      "UMA WOOD                       35\n",
      "VIVIEN BERGEN                  30\n",
      "CUBA OLIVIER                   28\n",
      "FRED COSTNER                   27\n",
      "HELEN VOIGHT                   32\n",
      "LUCILLE TRACY                  30\n",
      "KIRSTEN PALTROW                27\n"
     ]
    }
   ],
   "source": [
    "query = (\n",
    "    \"SELECT a.first_name, a.last_name, COUNT(f.film_id) film_count \"\n",
    "    \"FROM actor a \"\n",
    "    \"JOIN film_actor fa ON a.actor_id = fa.actor_id \"\n",
    "    \"JOIN film f ON f.film_id = fa.film_id \"\n",
    "    \"GROUP BY a.actor_id, a.first_name, a.last_name \"\n",
    "    \"HAVING film_count > 25 \"\n",
    "    \"LIMIT 10 \"\n",
    ") # LIST OF ACTORS AND NUMBER OF FILMS THEY STARRED IN (MORE THAN 25 FILMS ONLY)\n",
    "cursor.execute(query) \n",
    "result = cursor.fetchall()\n",
    "result = [(f\"{i[0]} {i[1]}\",i[2]) for i in result]\n",
    "\n",
    "headers = [i[0] for i in cursor.description]\n",
    "headers = [\"name\",headers[2]]\n",
    "\n",
    "print(tabulate(result,headers))"
   ]
  },
  {
   "cell_type": "markdown",
   "metadata": {},
   "source": [
    "## 5. INSERT, UPDATE, DELETE queries"
   ]
  },
  {
   "cell_type": "code",
   "execution_count": 9,
   "metadata": {
    "slideshow": {
     "slide_type": "slide"
    }
   },
   "outputs": [
    {
     "name": "stdout",
     "output_type": "stream",
     "text": [
      "Largest ID: 200\n"
     ]
    }
   ],
   "source": [
    "# SETUP AUTO_INCREMENT PRIMARY KEY\n",
    "largest_id_query = (\n",
    "    \"SELECT MAX(actor_id) FROM actor \"\n",
    ")\n",
    "cursor.execute(largest_id_query)\n",
    "largest_id = cursor.fetchone()[0]\n",
    "print(f\"Largest ID: {largest_id}\")\n",
    "\n",
    "alter_query = (\n",
    "    \"ALTER TABLE actor AUTO_INCREMENT = %s\"\n",
    ")\n",
    "cursor.execute(alter_query,(largest_id+1,))"
   ]
  },
  {
   "cell_type": "code",
   "execution_count": 10,
   "metadata": {
    "slideshow": {
     "slide_type": "slide"
    }
   },
   "outputs": [
    {
     "name": "stdout",
     "output_type": "stream",
     "text": [
      "LAST 5 ROWS OF ACTOR TABLE AFTER INSERTING NEW ROW\n",
      "  actor_id  first_name    last_name    last_update\n",
      "----------  ------------  -----------  -------------------\n",
      "       201  KHANH         BUI          2024-04-07 17:29:14\n",
      "       200  THORA         TEMPLE       2006-02-15 04:34:33\n",
      "       199  JULIA         FAWCETT      2006-02-15 04:34:33\n",
      "       198  MARY          KEITEL       2006-02-15 04:34:33\n",
      "       197  REESE         WEST         2006-02-15 04:34:33\n",
      "\n",
      "LAST 5 ROWS OF ACTOR TABLE AFTER UPDATING NEW ROW\n",
      "  actor_id  first_name    last_name    last_update\n",
      "----------  ------------  -----------  -------------------\n",
      "       201  KHANH2        BUI2         2024-04-07 17:29:14\n",
      "       200  THORA         TEMPLE       2006-02-15 04:34:33\n",
      "       199  JULIA         FAWCETT      2006-02-15 04:34:33\n",
      "       198  MARY          KEITEL       2006-02-15 04:34:33\n",
      "       197  REESE         WEST         2006-02-15 04:34:33\n",
      "\n",
      "LAST 5 ROWS OF ACTOR TABLE AFTER DELETING NEW ROW\n",
      "  actor_id  first_name    last_name    last_update\n",
      "----------  ------------  -----------  -------------------\n",
      "       200  THORA         TEMPLE       2006-02-15 04:34:33\n",
      "       199  JULIA         FAWCETT      2006-02-15 04:34:33\n",
      "       198  MARY          KEITEL       2006-02-15 04:34:33\n",
      "       197  REESE         WEST         2006-02-15 04:34:33\n",
      "       196  BELA          WALKEN       2006-02-15 04:34:33\n"
     ]
    }
   ],
   "source": [
    "# INSERT NEW ROW\n",
    "insert_query = (\n",
    "    \"INSERT INTO actor (first_name,last_name)\"\n",
    "    \"VALUES\"\n",
    "        \"('KHANH','BUI')\"\n",
    ")\n",
    "cursor.execute(insert_query)\n",
    "db.commit()\n",
    "\n",
    "# CHECK LAST 5 ROWS\n",
    "check_query_1 = (\n",
    "    \"SELECT * FROM actor \"\n",
    "    \"ORDER BY actor_id DESC \"\n",
    "    \"LIMIT 5 \"\n",
    ")\n",
    "cursor.execute(check_query_1)\n",
    "result = cursor.fetchall()\n",
    "headers = [i[0] for i in cursor.description]\n",
    "print(\"LAST 5 ROWS OF ACTOR TABLE AFTER INSERTING NEW ROW\")\n",
    "print(tabulate(result,headers))\n",
    "print()\n",
    "\n",
    "new_id = result[0][0]\n",
    "\n",
    "# UPDATE NEW ROW \n",
    "update_query = (\n",
    "    \"UPDATE actor \"\n",
    "    \"SET first_name = 'KHANH2', last_name = 'BUI2' \"\n",
    "    \"WHERE actor_id = %s\"\n",
    ")\n",
    "cursor.execute(update_query,(new_id,))\n",
    "db.commit()\n",
    "\n",
    "# CHECK LAST 5 ROWS\n",
    "check_query_2 = (\n",
    "    \"SELECT * FROM actor \"\n",
    "    \"ORDER BY actor_id DESC \"\n",
    "    \"LIMIT 5 \"\n",
    ")\n",
    "cursor.execute(check_query_2)\n",
    "result = cursor.fetchall()\n",
    "headers = [i[0] for i in cursor.description]\n",
    "print(\"LAST 5 ROWS OF ACTOR TABLE AFTER UPDATING NEW ROW\")\n",
    "print(tabulate(result,headers))\n",
    "print()\n",
    "\n",
    "\n",
    "\n",
    "# DELETE NEW ROW\n",
    "delete_query = (\n",
    "    \"DELETE FROM actor \"\n",
    "    \"WHERE actor_id = %s\"\n",
    ")\n",
    "\n",
    "cursor.execute(delete_query,(new_id,))\n",
    "db.commit()\n",
    "\n",
    "# CHECK LAST 5 ROWS\n",
    "check_query_3 = (\n",
    "    \"SELECT * FROM actor \"\n",
    "    \"ORDER BY actor_id DESC \"\n",
    "    \"LIMIT 5 \"\n",
    ")\n",
    "cursor.execute(check_query_3)\n",
    "result = cursor.fetchall()\n",
    "headers = [i[0] for i in cursor.description]\n",
    "print(\"LAST 5 ROWS OF ACTOR TABLE AFTER DELETING NEW ROW\")\n",
    "print(tabulate(result,headers))"
   ]
  },
  {
   "cell_type": "markdown",
   "metadata": {
    "slideshow": {
     "slide_type": "slide"
    }
   },
   "source": [
    "## 6. Benchmark similar query"
   ]
  },
  {
   "cell_type": "code",
   "execution_count": 11,
   "metadata": {
    "slideshow": {
     "slide_type": "slide"
    }
   },
   "outputs": [],
   "source": [
    "def benchmark(query):\n",
    "    import time\n",
    "    start = time.time()\n",
    "    for i in range(200):\n",
    "        cursor.execute(query)\n",
    "        result = cursor.fetchall()\n",
    "    end = time.time()\n",
    "    return end-start"
   ]
  },
  {
   "cell_type": "code",
   "execution_count": 12,
   "metadata": {
    "slideshow": {
     "slide_type": "slide"
    }
   },
   "outputs": [
    {
     "name": "stdout",
     "output_type": "stream",
     "text": [
      "Query 1: 1.8903088569641113\n",
      "Query 2: 1.2115652561187744\n"
     ]
    }
   ],
   "source": [
    "query_1 = (\n",
    "    \"SELECT a.first_name, a.last_name, COUNT(f.film_id) film_count \"\n",
    "    \"FROM actor a \"\n",
    "    \"JOIN film_actor fa ON a.actor_id = fa.actor_id \"\n",
    "    \"JOIN film f ON f.film_id = fa.film_id \"\n",
    "    \"GROUP BY a.actor_id, a.first_name, a.last_name \"\n",
    "    \"LIMIT 10\"\n",
    ") # LIST OF ACTORS AND NUMBER OF FILMS THEY STARRED IN\n",
    "\n",
    "query_2 = (\n",
    "    \"WITH \"\n",
    "        \"actor_film_count AS \"\n",
    "        \"( \"\n",
    "        \"SELECT a.actor_id, COUNT(f.film_id) film_count \"\n",
    "        \"FROM actor a \"\n",
    "        \"JOIN film_actor fa ON a.actor_id = fa.actor_id \"\n",
    "        \"JOIN film f ON f.film_id = fa.film_id \"\n",
    "        \"GROUP BY a.actor_id \"\n",
    "        \") \"\n",
    "    \"SELECT a.first_name, a.last_name, afc.film_count \"\n",
    "    \"FROM actor a \"\n",
    "    \"JOIN actor_film_count afc ON a.actor_id = afc.actor_id \"\n",
    "    \"LIMIT 10 \"\n",
    ") # LIST OF ACTORS AND NUMBER OF FILMS THEY STARRED IN\n",
    "\n",
    "print(f\"Query 1: {benchmark(query_1)}\")\n",
    "print(f\"Query 2: {benchmark(query_2)}\")"
   ]
  },
  {
   "cell_type": "markdown",
   "metadata": {
    "slideshow": {
     "slide_type": "slide"
    }
   },
   "source": [
    "## 7. Optimize by adding index and benchmark again"
   ]
  },
  {
   "cell_type": "code",
   "execution_count": 13,
   "metadata": {
    "slideshow": {
     "slide_type": "slide"
    }
   },
   "outputs": [
    {
     "name": "stdout",
     "output_type": "stream",
     "text": [
      "Query 1: 1.8628051280975342\n",
      "Query 2: 1.140791654586792\n"
     ]
    }
   ],
   "source": [
    "# add index\n",
    "alter_query = (\n",
    "    \"ALTER TABLE actor ADD INDEX actor_name (actor_id,first_name,last_name) \"\n",
    ")\n",
    "cursor.execute(alter_query)\n",
    "\n",
    "query_1 = (\n",
    "    \"SELECT a.first_name, a.last_name, COUNT(f.film_id) film_count \"\n",
    "    \"FROM actor a \"\n",
    "    \"JOIN film_actor fa ON a.actor_id = fa.actor_id \"\n",
    "    \"JOIN film f ON f.film_id = fa.film_id \"\n",
    "    \"GROUP BY a.actor_id, a.first_name, a.last_name \"\n",
    "    \"LIMIT 10\"\n",
    ") # LIST OF ACTORS AND NUMBER OF FILMS THEY STARRED IN\n",
    "\n",
    "query_2 = (\n",
    "    \"WITH \"\n",
    "        \"actor_film_count AS \"\n",
    "        \"( \"\n",
    "        \"SELECT a.actor_id, COUNT(f.film_id) film_count \"\n",
    "        \"FROM actor a \"\n",
    "        \"JOIN film_actor fa ON a.actor_id = fa.actor_id \"\n",
    "        \"JOIN film f ON f.film_id = fa.film_id \"\n",
    "        \"GROUP BY a.actor_id \"\n",
    "        \") \"\n",
    "    \"SELECT a.first_name, a.last_name, afc.film_count \"\n",
    "    \"FROM actor a \"\n",
    "    \"JOIN actor_film_count afc ON a.actor_id = afc.actor_id \"\n",
    "    \"LIMIT 10 \"\n",
    ") # LIST OF ACTORS AND NUMBER OF FILMS THEY STARRED IN\n",
    "\n",
    "print(f\"Query 1: {benchmark(query_1)}\")\n",
    "print(f\"Query 2: {benchmark(query_2)}\")\n",
    "\n",
    "# drop index\n",
    "alter_query = (\n",
    "    \"DROP INDEX actor_name ON actor \"\n",
    ")\n",
    "cursor.execute(alter_query)"
   ]
  },
  {
   "cell_type": "markdown",
   "metadata": {
    "slideshow": {
     "slide_type": "slide"
    }
   },
   "source": [
    "## 8. Close connection"
   ]
  },
  {
   "cell_type": "code",
   "execution_count": 14,
   "metadata": {
    "slideshow": {
     "slide_type": "slide"
    }
   },
   "outputs": [],
   "source": [
    "db.close()"
   ]
  }
 ],
 "metadata": {
  "kernelspec": {
   "display_name": "hustenv",
   "language": "python",
   "name": "python3"
  },
  "language_info": {
   "codemirror_mode": {
    "name": "ipython",
    "version": 3
   },
   "file_extension": ".py",
   "mimetype": "text/x-python",
   "name": "python",
   "nbconvert_exporter": "python",
   "pygments_lexer": "ipython3",
   "version": "3.12.2"
  }
 },
 "nbformat": 4,
 "nbformat_minor": 2
}
