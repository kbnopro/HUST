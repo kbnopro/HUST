{
 "cells": [
  {
   "cell_type": "markdown",
   "metadata": {},
   "source": [
    "# Splitting image with x% overlapping\n",
    "\n"
   ]
  },
  {
   "cell_type": "markdown",
   "metadata": {},
   "source": [
    "## 1. Import libraries\n"
   ]
  },
  {
   "cell_type": "code",
   "execution_count": 1,
   "metadata": {},
   "outputs": [],
   "source": [
    "from glob import glob\n",
    "from PIL import Image\n",
    "import os\n",
    "import math"
   ]
  },
  {
   "cell_type": "markdown",
   "metadata": {},
   "source": [
    "## 2. Define variables\n"
   ]
  },
  {
   "cell_type": "code",
   "execution_count": 2,
   "metadata": {},
   "outputs": [],
   "source": [
    "input_dir = \"./data\"\n",
    "output_dir = \"./output\"\n",
    "# for every two horizontally or vertically adjacent window, the overlapping percentage should be at least {min_overlapping_percentage}%\n",
    "min_overlapping_percentage = 0.6\n",
    "# fixed size for sliding window\n",
    "window_size = (1024,1024)\n",
    "eps = 1e5"
   ]
  },
  {
   "cell_type": "markdown",
   "metadata": {},
   "source": [
    "## 3. Load pictures"
   ]
  },
  {
   "cell_type": "code",
   "execution_count": 5,
   "metadata": {},
   "outputs": [
    {
     "name": "stdout",
     "output_type": "stream",
     "text": [
      "Total 38 pictures\n",
      "Picture size: (5472, 3648)\n"
     ]
    }
   ],
   "source": [
    "img_list = glob(f\"{input_dir}/**/*\")\n",
    "img_cnt = len(img_list)\n",
    "\n",
    "print(f\"Total {img_cnt} pictures\")\n",
    "\n",
    "pic_size = Image.open(img_list[0]).size\n",
    "\n",
    "print(f\"Picture size: {pic_size}\")"
   ]
  },
  {
   "cell_type": "markdown",
   "metadata": {},
   "source": [
    "## 4. Calculate sliding stats"
   ]
  },
  {
   "cell_type": "code",
   "execution_count": 6,
   "metadata": {},
   "outputs": [
    {
     "name": "stdout",
     "output_type": "stream",
     "text": [
      "Actual overlapping percentage: 0.6051136363636364 (horizontal), 0.6339285714285714 (vertical)\n"
     ]
    }
   ],
   "source": [
    "def get_actual_overlapping_percentage(pic_size,window_size):\n",
    "    # Minimum number of windows to fully cover the picture\n",
    "    window_per_pic = pic_size/window_size\n",
    "    min_window_number = math.ceil((window_per_pic-min_overlapping_percentage)/(1-min_overlapping_percentage))\n",
    "    return (window_per_pic-min_window_number)/(1-min_window_number)\n",
    "actual_overlapping_percentage = [get_actual_overlapping_percentage(pic_size[0],window_size[0]),get_actual_overlapping_percentage(pic_size[1],window_size[1])]\n",
    "\n",
    "print(f\"Actual overlapping percentage: {actual_overlapping_percentage[0]} (horizontal), {actual_overlapping_percentage[1]} (vertical)\")"
   ]
  },
  {
   "cell_type": "markdown",
   "metadata": {},
   "source": [
    "## 5. Generate top-left coordinate for windows\n"
   ]
  },
  {
   "cell_type": "code",
   "execution_count": 7,
   "metadata": {},
   "outputs": [],
   "source": [
    "def get_coordinate_list(pic_size,actual_overlapping_percentage,window_size):\n",
    "    coordinate_list = []\n",
    "    i = 0\n",
    "    while i < pic_size:\n",
    "        if round(i*eps)/eps+window_size > pic_size:\n",
    "            break\n",
    "        coordinate_list.append(round(i))\n",
    "        i += window_size*(1-actual_overlapping_percentage)\n",
    "    return coordinate_list\n",
    "coordinate_list = [get_coordinate_list(pic_size[0],actual_overlapping_percentage[0],window_size[0]),get_coordinate_list(pic_size[1],actual_overlapping_percentage[1],window_size[1])]"
   ]
  },
  {
   "cell_type": "markdown",
   "metadata": {},
   "source": [
    "## 6. Apply on image and write to folder"
   ]
  },
  {
   "cell_type": "code",
   "execution_count": 26,
   "metadata": {},
   "outputs": [
    {
     "name": "stdout",
     "output_type": "stream",
     "text": [
      "./data/label/100_0865_0057.png done\n",
      "./data/label/100_0865_0053.png done\n",
      "./data/label/100_0865_0006.png done\n",
      "./data/label/100_0865_0054.png done\n",
      "./data/label/100_0865_0013.png done\n",
      "./data/label/100_0865_0055.png done\n",
      "./data/label/100_0865_0003.png done\n",
      "./data/label/100_0865_0009.png done\n",
      "./data/label/100_0865_0058.png done\n",
      "./data/label/100_0865_0011.png done\n",
      "./data/label/100_0865_0007.png done\n",
      "./data/label/100_0865_0008.png done\n",
      "./data/label/100_0865_0005.png done\n",
      "./data/label/100_0865_0012.png done\n",
      "./data/label/100_0865_0056.png done\n",
      "./data/label/100_0865_0010.png done\n",
      "./data/label/100_0865_0001.png done\n",
      "./data/label/100_0865_0002.png done\n",
      "./data/label/100_0865_0004.png done\n",
      "./data/image/100_0865_0011.JPG done\n",
      "./data/image/100_0865_0053.JPG done\n",
      "./data/image/100_0865_0056.JPG done\n",
      "./data/image/100_0865_0009.JPG done\n",
      "./data/image/100_0865_0002.JPG done\n",
      "./data/image/100_0865_0058.JPG done\n",
      "./data/image/100_0865_0001.JPG done\n",
      "./data/image/100_0865_0005.JPG done\n",
      "./data/image/100_0865_0013.JPG done\n",
      "./data/image/100_0865_0007.JPG done\n",
      "./data/image/100_0865_0003.JPG done\n",
      "./data/image/100_0865_0054.JPG done\n",
      "./data/image/100_0865_0010.JPG done\n",
      "./data/image/100_0865_0004.JPG done\n",
      "./data/image/100_0865_0012.JPG done\n",
      "./data/image/100_0865_0006.JPG done\n",
      "./data/image/100_0865_0008.JPG done\n",
      "./data/image/100_0865_0055.JPG done\n",
      "./data/image/100_0865_0057.JPG done\n",
      "All done. Created 3648 windows\n"
     ]
    }
   ],
   "source": [
    "# clean output dir\n",
    "for img_path in glob(f\"{output_dir}/**/*\"):\n",
    "    os.remove(img_path)\n",
    "\n",
    "for img_path in img_list:\n",
    "    img = Image.open(img_path)\n",
    "    for x in coordinate_list[0]:\n",
    "        for y in coordinate_list[1]:\n",
    "            window = img.crop((x,y,x+window_size[0],y+window_size[1])) \n",
    "            os.makedirs(f\"{output_dir}/{'/'.join(img_path[len(input_dir)+1:].split('/')[0:-1])}/\",exist_ok=True)\n",
    "            window.save(f\"{output_dir}/{\"/\".join(img_path[len(input_dir)+1:].split(\"/\")[0:-1])}/{img_path.split('/')[-1].split(\".\")[0]}_{x}_{y}_{window_size[0]}_{window_size[1]}.png\")\n",
    "    print(f\"{img_path} done\") \n",
    "\n",
    "print(f\"All done. Created {len(glob(f'{output_dir}/**/*'))} windows\")"
   ]
  }
 ],
 "metadata": {
  "kernelspec": {
   "display_name": "hustenv",
   "language": "python",
   "name": "python3"
  },
  "language_info": {
   "codemirror_mode": {
    "name": "ipython",
    "version": 3
   },
   "file_extension": ".py",
   "mimetype": "text/x-python",
   "name": "python",
   "nbconvert_exporter": "python",
   "pygments_lexer": "ipython3",
   "version": "3.12.5"
  }
 },
 "nbformat": 4,
 "nbformat_minor": 2
}
