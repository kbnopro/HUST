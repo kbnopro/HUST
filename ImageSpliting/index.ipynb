{
 "cells": [
  {
   "cell_type": "markdown",
   "metadata": {},
   "source": [
    "# Splitting image with x% overlapping\n",
    "\n"
   ]
  },
  {
   "cell_type": "markdown",
   "metadata": {},
   "source": [
    "## 1. Import libraries\n"
   ]
  },
  {
   "cell_type": "code",
   "execution_count": 21,
   "metadata": {},
   "outputs": [],
   "source": [
    "from glob import glob\n",
    "from PIL import Image\n",
    "import numpy as np\n",
    "import math"
   ]
  },
  {
   "cell_type": "markdown",
   "metadata": {},
   "source": [
    "## 2. Define variables\n"
   ]
  },
  {
   "cell_type": "code",
   "execution_count": 28,
   "metadata": {},
   "outputs": [],
   "source": [
    "input_dir = \"./data\"\n",
    "output_dir = \"./output\"\n",
    "# for every two horizontally or vertically adjacent window, the overlapping percentage should be at least {min_overlapping_percentage}%\n",
    "min_overlapping_percentage = 0.6\n",
    "# fixed size for sliding window\n",
    "window_size = (512,512)\n",
    "eps = 1e5"
   ]
  },
  {
   "cell_type": "markdown",
   "metadata": {},
   "source": [
    "## 3. Load pictures"
   ]
  },
  {
   "cell_type": "code",
   "execution_count": 23,
   "metadata": {},
   "outputs": [
    {
     "name": "stdout",
     "output_type": "stream",
     "text": [
      "Total 132 pictures\n",
      "Picture size: (5472, 3648)\n"
     ]
    }
   ],
   "source": [
    "img_list = glob(f\"{input_dir}/*\")\n",
    "img_cnt = len(img_list)\n",
    "\n",
    "print(f\"Total {img_cnt} pictures\")\n",
    "\n",
    "img_size = Image.open(img_list[0]).size\n",
    "\n",
    "print(f\"Picture size: {img_size}\")"
   ]
  },
  {
   "cell_type": "markdown",
   "metadata": {},
   "source": [
    "## 4. Calculate sliding stats"
   ]
  },
  {
   "cell_type": "code",
   "execution_count": 24,
   "metadata": {},
   "outputs": [
    {
     "name": "stdout",
     "output_type": "stream",
     "text": [
      "Actual overlapping percentage: 0.6125 (horizontal), 0.6171875 (vertical)\n"
     ]
    }
   ],
   "source": [
    "def get_actual_overlapping_percentage(pic_size,window_size):\n",
    "    # Minimum number of windows to fully cover the picture\n",
    "    window_per_pic = pic_size/window_size\n",
    "    min_window_number = math.ceil((window_per_pic-min_overlapping_percentage)/(1-min_overlapping_percentage))\n",
    "    return (window_per_pic-min_window_number)/(1-min_window_number)\n",
    "actual_overlapping_percentage = [get_actual_overlapping_percentage(img_size[0],window_size[0]),get_actual_overlapping_percentage(img_size[1],window_size[1])]\n",
    "\n",
    "print(f\"Actual overlapping percentage: {actual_overlapping_percentage[0]} (horizontal), {actual_overlapping_percentage[1]} (vertical)\")"
   ]
  },
  {
   "cell_type": "markdown",
   "metadata": {},
   "source": [
    "## 5. Generate top-left coordinate for windows\n"
   ]
  },
  {
   "cell_type": "code",
   "execution_count": 25,
   "metadata": {},
   "outputs": [],
   "source": [
    "def get_coordinate_list(pic_size,actual_overlapping_percentage,window_size):\n",
    "    coordinate_list = []\n",
    "    i = 0\n",
    "    while i < pic_size:\n",
    "        if round(i*eps)/eps+window_size > pic_size:\n",
    "            break\n",
    "        coordinate_list.append(round(i))\n",
    "        i += window_size*(1-actual_overlapping_percentage)\n",
    "    return coordinate_list\n",
    "coordinate_list = [get_coordinate_list(img_size[0],actual_overlapping_percentage[0],window_size[0]),get_coordinate_list(img_size[1],actual_overlapping_percentage[1],window_size[1])]"
   ]
  },
  {
   "cell_type": "markdown",
   "metadata": {},
   "source": [
    "## 6. Apply on image and write to folder"
   ]
  },
  {
   "cell_type": "code",
   "execution_count": 30,
   "metadata": {},
   "outputs": [
    {
     "name": "stdout",
     "output_type": "stream",
     "text": [
      "./data/100_0865_0050.JPG done\n"
     ]
    }
   ],
   "source": [
    "for img_path in img_list:\n",
    "    img = Image.open(img_path)\n",
    "    for x in coordinate_list[0]:\n",
    "        for y in coordinate_list[1]:\n",
    "            window = img.crop((x,y,x+window_size[0],y+window_size[1]))\n",
    "            window.save(f\"{output_dir}/{img_path.split('/')[-1].split('.')[0]}_{x}_{y}_{window_size}.png\")\n",
    "    print(f\"{img_path} done\") \n",
    "    break"
   ]
  }
 ],
 "metadata": {
  "kernelspec": {
   "display_name": "hustenv",
   "language": "python",
   "name": "python3"
  },
  "language_info": {
   "codemirror_mode": {
    "name": "ipython",
    "version": 3
   },
   "file_extension": ".py",
   "mimetype": "text/x-python",
   "name": "python",
   "nbconvert_exporter": "python",
   "pygments_lexer": "ipython3",
   "version": "3.12.5"
  }
 },
 "nbformat": 4,
 "nbformat_minor": 2
}
