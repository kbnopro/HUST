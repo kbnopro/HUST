{
 "cells": [
  {
   "cell_type": "markdown",
   "metadata": {},
   "source": [
    "# Build UNET architecture for image segmentation using Pytorch\n"
   ]
  },
  {
   "cell_type": "markdown",
   "metadata": {},
   "source": [
    "![image.png](UNET.webp \"UNET Architecture\")"
   ]
  },
  {
   "cell_type": "markdown",
   "metadata": {},
   "source": [
    "## 1. Import libraries"
   ]
  },
  {
   "cell_type": "code",
   "execution_count": 4,
   "metadata": {},
   "outputs": [],
   "source": [
    "from torch import nn\n",
    "import torch "
   ]
  },
  {
   "cell_type": "markdown",
   "metadata": {},
   "source": [
    "## 2. Define architecture"
   ]
  },
  {
   "cell_type": "code",
   "execution_count": 14,
   "metadata": {},
   "outputs": [
    {
     "name": "stdout",
     "output_type": "stream",
     "text": [
      "torch.Size([1, 3, 512, 512]) torch.Size([1, 10, 512, 512])\n"
     ]
    }
   ],
   "source": [
    "class DoubleConv(nn.Module):\n",
    "    def __init__(self, in_channels, out_channels):\n",
    "        super().__init__()\n",
    "        self.conv_op = nn.Sequential(\n",
    "            nn.Conv2d(in_channels, out_channels, kernel_size=3, padding=1),\n",
    "            nn.ReLU(inplace=True),\n",
    "            nn.Conv2d(out_channels, out_channels, kernel_size=3, padding=1),\n",
    "            nn.ReLU(inplace=True)\n",
    "        )\n",
    "    def forward(self, x):\n",
    "        return self.conv_op(x)\n",
    "\n",
    "class DownSample(nn.Module):\n",
    "    def __init__(self, in_channels, out_channels):\n",
    "        super().__init__()\n",
    "        self.conv = DoubleConv(in_channels, out_channels);\n",
    "        self.pool = nn.MaxPool2d(kernel_size=2, stride=2)\n",
    "    def forward(self, x):\n",
    "        down = self.conv(x)\n",
    "        p = self.pool(down)\n",
    "        return down, p\n",
    "\n",
    "class UpSample(nn.Module):\n",
    "    def __init__(self, in_channels, out_channels):\n",
    "        super().__init__()\n",
    "        self.conv = DoubleConv(in_channels, out_channels);\n",
    "        self.up = nn.ConvTranspose2d(in_channels, out_channels, kernel_size=2, stride=2)\n",
    "    def forward(self, x1, x2):\n",
    "        x1 = self.up(x1)\n",
    "        x = torch.cat([x2,x1], dim=1)\n",
    "        return self.conv(x)\n",
    "\n",
    "class UNet(nn.Module):\n",
    "    def __init__(self, in_channels, num_classes):\n",
    "        super().__init__()\n",
    "        self.down_convolution_1 = DownSample(in_channels,64)\n",
    "        self.down_convolution_2 = DownSample(64,128)\n",
    "        self.down_convolution_3 = DownSample(128,256)\n",
    "        self.down_convolution_4 = DownSample(256,512)\n",
    "        \n",
    "        self.bottom_neck = DoubleConv(512,1024)\n",
    "        \n",
    "        self.up_convolution_1 = UpSample(1024,512)\n",
    "        self.up_convolution_2 = UpSample(512,256)\n",
    "        self.up_convolution_3 = UpSample(256,128)\n",
    "        self.up_convolution_4 = UpSample(128,64)\n",
    "        \n",
    "        self.out = nn.Conv2d(64, num_classes, kernel_size=1)\n",
    "        \n",
    "    def forward(self, x):\n",
    "        down1, p1 = self.down_convolution_1(x)\n",
    "        down2, p2 = self.down_convolution_2(p1)\n",
    "        down3, p3 = self.down_convolution_3(p2)\n",
    "        down4, p4 = self.down_convolution_4(p3)\n",
    "        \n",
    "        bottom = self.bottom_neck(p4)\n",
    "\n",
    "        up1 = self.up_convolution_1(bottom, down4)\n",
    "        up2 = self.up_convolution_2(up1, down3)\n",
    "        up3 = self.up_convolution_3(up2, down2)\n",
    "        up4 = self.up_convolution_4(up3, down1)\n",
    "        \n",
    "        out = self.out(up4)\n",
    "        return out\n"
   ]
  }
 ],
 "metadata": {
  "kernelspec": {
   "display_name": "hustenv",
   "language": "python",
   "name": "python3"
  },
  "language_info": {
   "codemirror_mode": {
    "name": "ipython",
    "version": 3
   },
   "file_extension": ".py",
   "mimetype": "text/x-python",
   "name": "python",
   "nbconvert_exporter": "python",
   "pygments_lexer": "ipython3",
   "version": "3.12.4"
  }
 },
 "nbformat": 4,
 "nbformat_minor": 2
}
