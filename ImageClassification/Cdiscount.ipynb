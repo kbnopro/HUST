{
 "cells": [
  {
   "cell_type": "markdown",
   "metadata": {},
   "source": [
    "# Number classification using Kaggle Cdiscount dataset"
   ]
  },
  {
   "cell_type": "code",
   "execution_count": null,
   "metadata": {},
   "outputs": [],
   "source": [
    "# Function to identify environment\n",
    "def checkIsKaggle ():\n",
    "    import os \n",
    "    return 'KAGGLE_URL_BASE' in os.environ \n",
    "isKaggle = checkIsKaggle()\n",
    "print(\"This is a Kaggle environment\" if isKaggle else \"This is not a Kaggle environment\")\n",
    "\n"
   ]
  },
  {
   "cell_type": "code",
   "execution_count": null,
   "metadata": {},
   "outputs": [],
   "source": [
    "# Check GPU compatibility with Pytorch and print out GPU information\n",
    "import torch\n",
    "if torch.cuda.is_available():\n",
    "    print(\"GPU is available\")\n",
    "    print(\"GPU device:\", torch.cuda.get_device_name(0))\n",
    "    print(\"GPU memory:\", round(torch.cuda.get_device_properties(0).total_memory/1024**3),\"GB\")\n",
    "else:\n",
    "    print(\"GPU is not available. Using CPU\")\n",
    "    \n",
    "CUDA = torch.cuda.is_available()"
   ]
  },
  {
   "cell_type": "markdown",
   "metadata": {},
   "source": [
    "## 1. Import libraries and models"
   ]
  },
  {
   "cell_type": "code",
   "execution_count": null,
   "metadata": {},
   "outputs": [],
   "source": [
    "\n",
    "import io \n",
    "import torch # Pytorch\n",
    "from torch import nn # Pytorch's neural network module\n",
    "import bson # handle BSON file format\n",
    "import numpy as np # Numpy\n",
    "from skimage.io import imread   \n",
    "import matplotlib.pyplot as plt # Matplotlib plot\n",
    "import h5py # Handle HDF5 file format\n",
    "from glob import glob\n",
    "from tqdm import tqdm # Progress bar\n",
    "\n",
    "if isKaggle:\n",
    "    pass\n",
    "else:\n",
    "    from models.__VGG16__ import VGG16 # VGG16 model\n"
   ]
  },
  {
   "cell_type": "code",
   "execution_count": null,
   "metadata": {},
   "outputs": [],
   "source": [
    "# if isKaggle:\n",
    "#     pass\n",
    "# else:\n",
    "#     torch.save(VGG16, \"./models/VGG16.pt\")\n",
    "    \n",
    "#     summary(VGG16(1000).cuda(), (3, 224, 224)) # Print the model summary"
   ]
  },
  {
   "cell_type": "markdown",
   "metadata": {},
   "source": [
    "## 2. Process data from bson\n"
   ]
  },
  {
   "cell_type": "code",
   "execution_count": null,
   "metadata": {},
   "outputs": [],
   "source": [
    "bson_dir = \"/kaggle/input\" if isKaggle else \"./data\" # Input directory\n",
    "\n",
    "processed_dir = \"/tmp/processed_data\" if isKaggle else \"./processed_data\" \n",
    "\n",
    "normalized_dir = \"/tmp/normalized_data\" if isKaggle else \"./normalized_data\"\n",
    "\n",
    "def processBson(filename:str) -> None:\n",
    "    filenameWithoutExt = filename.split(\".\")[0] # Get filename without extension\n",
    "    \n",
    "    data = bson.decode_file_iter(open(f\"{bson_dir}/{filename}\",\"rb\")) # Open BSON file\n",
    "    \n",
    "    f = h5py.File(f\"{processed_dir}/{filenameWithoutExt}.hdf5\", \"w\") # Open HDF5 file\n",
    "    \n",
    "    f.create_dataset(name=\"image\",shape=(0,280,280,3),dtype=\"i\",chunks=True,maxshape=(None,280,280,3) ) # Create dataset for images \n",
    "    f.create_dataset(name=\"category_id\",shape=(0,),dtype=\"i\",chunks=True,maxshape=(None,)) # Create dataset for labels\n",
    "    f.create_dataset(name=\"product_id\",shape=(0,),dtype=\"i\",chunks=True,maxshape=(None,)) # Create dataset for product ID\n",
    "    \n",
    "    image_array = [] # Image list\n",
    "    category_id_array = [] # Label list\n",
    "    product_id_array = [] # Product ID list\n",
    "    \n",
    "    def flushData():\n",
    "        pass\n",
    "    \n",
    "    def appendData(image,product_id,category_id):\n",
    "        image_array.append(image)\n",
    "        product_id_array.append(product_id)\n",
    "        category_id_array.append(category_id)\n",
    "        if len(image_array) == 1000:\n",
    "            flushData()\n",
    "    \n",
    "    for product in tqdm(data):\n",
    "        product_id = product['_id'] # Get product ID\n",
    "        category_id = product['category_id'] if filenameWithoutExt != \"test\" else -1 # Get category ID\n",
    "        for pic in product['imgs']:\n",
    "            img = imread(io.BytesIO(pic['picture'])) # Read image\n",
    "    \n",
    "    flushData()\n",
    "    f.close() # Close HDF5 file\n",
    "            \n",
    "            \n",
    "processBson(\"test.bson\")\n",
    "for filename in glob(f\"{bson_dir}/*.bson\"):\n",
    "    print(filename.split(\"\\\\\")[-1])\n",
    "    \n",
    "    \n",
    "    \n",
    "\n"
   ]
  }
 ],
 "metadata": {
  "language_info": {
   "name": "python"
  }
 },
 "nbformat": 4,
 "nbformat_minor": 4
}
