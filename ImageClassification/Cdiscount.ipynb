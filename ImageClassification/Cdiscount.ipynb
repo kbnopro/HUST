{
 "cells": [
  {
   "cell_type": "markdown",
   "metadata": {},
   "source": [
    "# Number classification using Mnist dataset"
   ]
  },
  {
   "cell_type": "code",
   "execution_count": null,
   "metadata": {},
   "outputs": [],
   "source": [
    "# Function to identify environment\n",
    "def isKaggle ():\n",
    "    import os \n",
    "    return 'KAGGLE_URL_BASE' in os.environ \n",
    "print(\"This is a Kaggle environment\" if isKaggle() else \"This is not a Kaggle environment\")\n"
   ]
  },
  {
   "cell_type": "code",
   "execution_count": null,
   "metadata": {},
   "outputs": [],
   "source": [
    "# Check GPU compatibility with Pytorch and print out GPU information\n",
    "import torch\n",
    "if torch.cuda.is_available():\n",
    "    print(\"GPU is available\")\n",
    "    print(\"GPU device:\", torch.cuda.get_device_name(0))\n",
    "    print(\"GPU memory:\", round(torch.cuda.get_device_properties(0).total_memory/1024**3),\"GB\")\n",
    "else:\n",
    "    print(\"GPU is not available. Using CPU\")\n",
    "    \n",
    "CUDA = torch.cuda.is_available()"
   ]
  },
  {
   "cell_type": "code",
   "execution_count": null,
   "metadata": {},
   "outputs": [],
   "source": [
    "import sys\n",
    "print(sys.path)"
   ]
  },
  {
   "cell_type": "markdown",
   "metadata": {},
   "source": [
    "## 1. Import libraries"
   ]
  },
  {
   "cell_type": "code",
   "execution_count": null,
   "metadata": {},
   "outputs": [],
   "source": [
    "import torch # Pytorch\n",
    "from torch import nn # Pytorch's neural network module\n",
    "\n",
    "# Add the models directory to the path\n",
    "\n",
    "\n",
    "if isKaggle():\n",
    "    pass\n",
    "else:\n",
    "    from models.__VGG16__ import VGG16 # VGG16 model\n",
    "    torch.save(VGG16, \"./models/VGG16.pt\")\n",
    "\n",
    "    from torchsummary import summary # Pytorch model summary\n",
    "    summary(VGG16(1000), (3, 224, 224),device=\"cpu\") # Print the model summary\n",
    "\n"
   ]
  },
  {
   "cell_type": "code",
   "execution_count": null,
   "metadata": {},
   "outputs": [],
   "source": []
  }
 ],
 "metadata": {
  "language_info": {
   "name": "python"
  }
 },
 "nbformat": 4,
 "nbformat_minor": 4
}
